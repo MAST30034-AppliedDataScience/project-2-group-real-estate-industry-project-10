{
 "cells": [
  {
   "cell_type": "code",
   "execution_count": null,
   "metadata": {},
   "outputs": [],
   "source": []
  }
 ],
 "metadata": {
  "kernelspec": {
   "display_name": "Python 3.9.12 ('base')",
   "language": "python",
   "name": "python3"
  },
  "language_info": {
   "name": "python",
   "version": "3.9.12"
  },
  "orig_nbformat": 4,
  "vscode": {
   "interpreter": {
    "hash": "4da9767ede2aa5dda80421e17bc7538037e137690e850a94458f7447dae52089"
   }
  }
 },
 "nbformat": 4,
 "nbformat_minor": 2
}
