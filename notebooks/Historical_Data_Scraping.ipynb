{
 "cells": [
  {
   "cell_type": "code",
   "execution_count": 15,
   "metadata": {},
   "outputs": [
    {
     "name": "stdout",
     "output_type": "stream",
     "text": [
      "Excel file downloaded successfully!\n",
      "The file contains the following sheets: ['1 bedroom flat', '2 bedroom flat', '3 bedroom flat', '2 bedroom house', '3 bedroom house', '4 bedroom house', 'All properties']\n",
      "  Moving annual rent by suburb                             Unnamed: 1  \\\n",
      "0               1 bedroom flat                                    NaN   \n",
      "1                          NaN                                    NaN   \n",
      "2              Inner Melbourne  Albert Park-Middle Park-West St Kilda   \n",
      "3                          NaN                               Armadale   \n",
      "4                          NaN                          Carlton North   \n",
      "\n",
      "  Lease commenced in year ending  Unnamed: 3 Unnamed: 4 Unnamed: 5 Unnamed: 6  \\\n",
      "0                        Mar 2000        NaN   Jun 2000        NaN   Sep 2000   \n",
      "1                           Count     Median      Count     Median      Count   \n",
      "2                             352        165        347        165        378   \n",
      "3                             210        150        212        150        213   \n",
      "4                              87        150         78        155         74   \n",
      "\n",
      "  Unnamed: 7 Unnamed: 8 Unnamed: 9  ... Unnamed: 178 Unnamed: 179  \\\n",
      "0        NaN   Dec 2000        NaN  ...     Mar 2022          NaN   \n",
      "1     Median      Count     Median  ...        Count       Median   \n",
      "2        170        369        175  ...          269          315   \n",
      "3        155        213        160  ...          223          310   \n",
      "4        150         65        150  ...           79          300   \n",
      "\n",
      "  Unnamed: 180 Unnamed: 181 Unnamed: 182 Unnamed: 183 Unnamed: 184  \\\n",
      "0     Jun 2022          NaN     Sep 2022          NaN     Dec 2022   \n",
      "1        Count       Median        Count       Median        Count   \n",
      "2          262          325          277          340          260   \n",
      "3          233          320          237          340          238   \n",
      "4           68          320           72          320           71   \n",
      "\n",
      "  Unnamed: 185 Unnamed: 186 Unnamed: 187  \n",
      "0          NaN     Mar 2023          NaN  \n",
      "1       Median        Count       Median  \n",
      "2          350          262          360  \n",
      "3          350          204          360  \n",
      "4          330           64          373  \n",
      "\n",
      "[5 rows x 188 columns]\n"
     ]
    }
   ],
   "source": [
    "import requests\n",
    "import pandas as pd\n",
    "\n",
    "# Define the URL of the Excel file\n",
    "url = 'https://www.dffh.vic.gov.au/moving-annual-rents-suburb-march-quarter-2023-excel'\n",
    "\n",
    "# Send a GET request to download the Excel file\n",
    "response = requests.get(url)\n",
    "\n",
    "# Check if the request was successful\n",
    "if response.status_code == 200:\n",
    "    # Save the content as a temporary Excel file\n",
    "    with open('../data/landing/External_data/historical_data.xlsx', 'wb') as file:\n",
    "        file.write(response.content)\n",
    "    print('Excel file downloaded successfully!')\n",
    "\n",
    "    # Use pandas to read the Excel file\n",
    "    df = pd.read_excel('../data/landing/External_data/historical_data.xlsx', sheet_name=None)  # sheet_name=None to load all sheets\n",
    "\n",
    "    # Output the names of all sheets\n",
    "    print(f\"The file contains the following sheets: {list(df.keys())}\")\n",
    "\n",
    "    # Let's assume we want to read the first sheet and print the first few rows\n",
    "    first_sheet = list(df.keys())[0]  # Get the first sheet's name\n",
    "    data = df[first_sheet]\n",
    "    print(data.head())  # Print the first 5 rows of the sheet\n",
    "\n",
    "else:\n",
    "    print(f\"Failed to download Excel file, HTTP status code: {response.status_code}\")\n"
   ]
  }
 ],
 "metadata": {
  "kernelspec": {
   "display_name": "Python 3.9.12 ('base')",
   "language": "python",
   "name": "python3"
  },
  "language_info": {
   "codemirror_mode": {
    "name": "ipython",
    "version": 3
   },
   "file_extension": ".py",
   "mimetype": "text/x-python",
   "name": "python",
   "nbconvert_exporter": "python",
   "pygments_lexer": "ipython3",
   "version": "3.9.12"
  },
  "orig_nbformat": 4,
  "vscode": {
   "interpreter": {
    "hash": "4da9767ede2aa5dda80421e17bc7538037e137690e850a94458f7447dae52089"
   }
  }
 },
 "nbformat": 4,
 "nbformat_minor": 2
}
