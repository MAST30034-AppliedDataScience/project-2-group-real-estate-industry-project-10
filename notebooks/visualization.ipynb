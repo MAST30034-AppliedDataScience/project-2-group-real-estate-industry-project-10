{
 "cells": [
  {
   "cell_type": "code",
   "execution_count": null,
   "metadata": {},
   "outputs": [],
   "source": [
    "import pandas as pd\n",
    "import folium\n",
    "df = pd.read_csv('../data/raw/rent_data.csv')"
   ]
  },
  {
   "cell_type": "code",
   "execution_count": null,
   "metadata": {},
   "outputs": [],
   "source": [
    "# 移除缺少地理位置的数据\n",
    "df = df.dropna(subset=['latitude', 'longitude'])\n",
    "\n",
    "# 转换纬度和经度为浮点数\n",
    "df['latitude'] = df['latitude'].astype(float)\n",
    "df['longitude'] = df['longitude'].astype(float)\n"
   ]
  },
  {
   "cell_type": "code",
   "execution_count": null,
   "metadata": {},
   "outputs": [],
   "source": [
    "# 创建地图对象，以数据的中心为初始位置\n",
    "m = folium.Map(location=[df['latitude'].mean(), df['longitude'].mean()], zoom_start=10)\n",
    "\n",
    "# 将房产位置添加到地图上\n",
    "for _, row in df.iterrows():\n",
    "    folium.Marker(\n",
    "        location=[row['latitude'], row['longitude']],\n",
    "        popup=f\"Price: {row['price']}, Bedrooms: {row['bedrooms']}, Bathrooms: {row['bathrooms']}, Parking: {row['parking']}\"\n",
    "    ).add_to(m)\n",
    "\n",
    "# 保存地图为HTML文件\n",
    "m.save('property_map.html')\n",
    "m\n"
   ]
  },
  {
   "cell_type": "code",
   "execution_count": null,
   "metadata": {},
   "outputs": [],
   "source": [
    "from folium.plugins import HeatMap\n",
    "\n",
    "# 创建价格热力图，进一步叠加外部属性，例如学校、火车站等，甚至可以使用folium中的热力图（heatmap）功能，来显示某个区域内房产的密度或价格分布。\n",
    "heat_data = [[row['latitude'], row['longitude']] for index, row in df.iterrows()]\n",
    "\n",
    "m = folium.Map(location=[df['latitude'].mean(), df['longitude'].mean()], zoom_start=10)\n",
    "HeatMap(heat_data).add_to(m)\n",
    "\n",
    "m.save('heatmap.html')\n",
    "m\n"
   ]
  }
 ],
 "metadata": {
  "language_info": {
   "name": "python"
  }
 },
 "nbformat": 4,
 "nbformat_minor": 2
}
