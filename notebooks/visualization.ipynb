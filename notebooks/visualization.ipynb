{
 "cells": [
  {
   "cell_type": "code",
   "execution_count": null,
   "metadata": {},
   "outputs": [],
   "source": [
    "import pandas as pd\n",
    "import folium\n",
    "df = pd.read_csv('../data/raw/rent_data.csv')"
   ]
  },
  {
   "cell_type": "code",
   "execution_count": null,
   "metadata": {},
   "outputs": [],
   "source": [
    "# Remove missing geolocation data\n",
    "df = df.dropna(subset=['latitude', 'longitude'])\n",
    "\n",
    "# Convert latitude and longitude to floating point numbers\n",
    "df['latitude'] = df['latitude'].astype(float)\n",
    "df['longitude'] = df['longitude'].astype(float)\n"
   ]
  },
  {
   "cell_type": "code",
   "execution_count": null,
   "metadata": {},
   "outputs": [],
   "source": [
    "# Create a map object with the center of the data as the initial location\n",
    "m = folium.Map(location=[df['latitude'].mean(), df['longitude'].mean()], zoom_start=10)\n",
    "\n",
    "# Add property locations to the map\n",
    "for _, row in df.iterrows():\n",
    "    folium.Marker(\n",
    "        location=[row['latitude'], row['longitude']],\n",
    "        popup=f\"Price: {row['price']}, Bedrooms: {row['bedrooms']}, Bathrooms: {row['bathrooms']}, Parking: {row['parking']}\"\n",
    "    ).add_to(m)\n",
    "\n",
    "# Save maps as HTML files\n",
    "m.save('property_map.html')\n",
    "m\n"
   ]
  },
  {
   "cell_type": "code",
   "execution_count": null,
   "metadata": {},
   "outputs": [],
   "source": [
    "from folium.plugins import HeatMap\n",
    "\n",
    "# Create price heatmaps, further overlay external properties such as schools, train stations, etc., or even use the heatmap feature in folium to show the density or price distribution of properties in an area.\n",
    "heat_data = [[row['latitude'], row['longitude']] for index, row in df.iterrows()]\n",
    "\n",
    "m = folium.Map(location=[df['latitude'].mean(), df['longitude'].mean()], zoom_start=10)\n",
    "HeatMap(heat_data).add_to(m)\n",
    "\n",
    "m.save('heatmap.html')\n",
    "m\n"
   ]
  }
 ],
 "metadata": {
  "language_info": {
   "name": "python"
  }
 },
 "nbformat": 4,
 "nbformat_minor": 2
}
