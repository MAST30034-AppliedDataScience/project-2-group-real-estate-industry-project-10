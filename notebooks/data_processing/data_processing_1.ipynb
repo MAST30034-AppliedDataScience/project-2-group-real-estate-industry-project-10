{
 "cells": [
  {
   "cell_type": "markdown",
   "metadata": {},
   "source": [
    "## 1. Data cleansing and integration"
   ]
  },
  {
   "cell_type": "code",
   "execution_count": null,
   "metadata": {},
   "outputs": [],
   "source": [
    "import pandas as pd\n",
    "\n",
    "#Load data\n",
    "df_properties = pd.read_csv('../data/landing/rent_data.csv')\n",
    "\n",
    "\n",
    "# Remove non-numeric characters in the price column, leaving only the numerical part\n",
    "df_properties['price'] = df_properties['price'].str.extract('(\\d+)').astype(float)\n",
    "\n",
    "# Handle missing values\n",
    "df_properties['price'] = df_properties['price'].replace('', None).astype(float)\n",
    "df_properties['price'].fillna(df_properties['price'].median(), inplace=True)\n",
    "df_properties['bedrooms'] = df_properties['bedrooms'].replace('', None).astype(int)\n",
    "df_properties['bedrooms'].fillna(1, inplace=True)\n",
    "\n",
    "# Load external demographic data\n",
    "df_population = pd.read_csv('../data/landing/External_data/SA2_population/SA2_population_data_table_3.csv', skiprows=4)\n",
    "\n",
    "# Select and rename important columns\n",
    "df_population_cleaned = df_population[['Unnamed: 4', 'Unnamed: 29']].rename(columns={\n",
    "    'Unnamed: 4': 'sa2_name',\n",
    "    'Unnamed: 29': 'total_population'  \n",
    "})\n",
    "\n",
    "# Make sure 'suburb' in the property data matches 'sa2_name' in the demographic data\n",
    "# Merge property data with demographic data\n",
    "df_merged = pd.merge(df_properties, df_population_cleaned, how='left', left_on='suburb', right_on='sa2_name')\n",
    "\n",
    "# View the merged data\n",
    "print(df_merged.head())\n",
    "\n",
    "# Save the cleaned and merged data\n",
    "df_merged.to_csv('../data/raw/merged_data.csv', index=False)\n",
    "\n"
   ]
  },
  {
   "cell_type": "markdown",
   "metadata": {},
   "source": [
    "## 2. In-depth analysis and initial insights"
   ]
  },
  {
   "cell_type": "markdown",
   "metadata": {},
   "source": [
    "### 2.1 Viewing average rents in different areas"
   ]
  },
  {
   "cell_type": "code",
   "execution_count": 14,
   "metadata": {},
   "outputs": [
    {
     "name": "stdout",
     "output_type": "stream",
     "text": [
      "suburb\n",
      "ECHUCA              1803.705882\n",
      "WONGA PARK          1600.000000\n",
      "PORTSEA             1500.000000\n",
      "BITTERN             1500.000000\n",
      "STEIGLITZ           1275.000000\n",
      "FRESHWATER CREEK    1100.000000\n",
      "OLINDA              1100.000000\n",
      "TONIMBUK            1000.000000\n",
      "MERRICKS BEACH       950.000000\n",
      "COTTLES BRIDGE       950.000000\n",
      "Name: price, dtype: float64\n"
     ]
    }
   ],
   "source": [
    "suburb_avg_rent = df_merged.groupby('suburb')['price'].mean().sort_values(ascending=False)\n",
    "print(suburb_avg_rent.head(10))"
   ]
  },
  {
   "cell_type": "markdown",
   "metadata": {},
   "source": [
    "### 2.2 Average rent for different number of bedrooms"
   ]
  },
  {
   "cell_type": "code",
   "execution_count": 30,
   "metadata": {},
   "outputs": [
    {
     "name": "stdout",
     "output_type": "stream",
     "text": [
      "   bedrooms   price\n",
      "0         4  1900.0\n",
      "1         2   845.0\n",
      "2         2   800.0\n",
      "3         2   750.0\n",
      "4         1   750.0\n",
      "5         2   720.0\n",
      "6         2   700.0\n",
      "7         2   700.0\n",
      "8         1   625.0\n",
      "9         2   600.0\n"
     ]
    },
    {
     "data": {
      "image/png": "[encoded data removed]",
      "text/plain": [
       "<Figure size 640x480 with 1 Axes>"
      ]
     },
     "metadata": {},
     "output_type": "display_data"
    }
   ],
   "source": [
    "print(df_merged[['bedrooms', 'price']].dropna().head(10))\n",
    "\n",
    "import seaborn as sns\n",
    "import matplotlib.pyplot as plt\n",
    "import numpy as np  \n",
    "\n",
    "# Draw a histogram of the average rent for different number of bedrooms\n",
    "sns.barplot(x='bedrooms', y='price', data=df_merged, estimator=np.mean)\n",
    "plt.title('Average Rent Price by Number of Bedrooms')\n",
    "plt.xlabel('Number of Bedrooms')\n",
    "plt.ylabel('Average Rent Price')\n",
    "plt.savefig('bedrooms_vs_rent_price.png')\n",
    "plt.show()\n"
   ]
  },
  {
   "cell_type": "markdown",
   "metadata": {},
   "source": [
    "## 3. Generation of preliminary reports and visualizations"
   ]
  },
  {
   "cell_type": "markdown",
   "metadata": {},
   "source": [
    "### 3.1 Report generation"
   ]
  },
  {
   "cell_type": "code",
   "execution_count": 24,
   "metadata": {},
   "outputs": [
    {
     "data": {
      "text/markdown": [
       "### Initial Insights"
      ],
      "text/plain": [
       "<IPython.core.display.Markdown object>"
      ]
     },
     "metadata": {},
     "output_type": "display_data"
    },
    {
     "data": {
      "text/markdown": [
       "1. The area with the highest rent is: ECHUCA, The average rent is 1803.7058823529412"
      ],
      "text/plain": [
       "<IPython.core.display.Markdown object>"
      ]
     },
     "metadata": {},
     "output_type": "display_data"
    },
    {
     "data": {
      "text/markdown": [
       "2. Properties with 5 bedrooms have the highest average rent, with an average rent of 647.1216216216217"
      ],
      "text/plain": [
       "<IPython.core.display.Markdown object>"
      ]
     },
     "metadata": {},
     "output_type": "display_data"
    }
   ],
   "source": [
    "from IPython.display import display, Markdown\n",
    "\n",
    "# Calculate the average rent for each number of bedrooms\n",
    "bedroom_avg_rent = df_merged.groupby('bedrooms')['price'].mean().sort_values(ascending=False)\n",
    "\n",
    "# Get the number of bedrooms with the highest average rent and the corresponding rent\n",
    "highest_bedrooms = bedroom_avg_rent.index[0]\n",
    "highest_rent = bedroom_avg_rent.iloc[0]\n",
    "\n",
    "# Generate report\n",
    "display(Markdown(\"### Initial Insights\"))\n",
    "display(Markdown(f\"1. The area with the highest rent is: {suburb_avg_rent.index[0]}, The average rent is {suburb_avg_rent.iloc[0]}\"))\n",
    "display(Markdown(f\"2. Properties with {highest_bedrooms} bedrooms have the highest average rent, with an average rent of {highest_rent}\"))\n",
    "\n"
   ]
  }
 ],
 "metadata": {
  "kernelspec": {
   "display_name": "Python 3.9.12 ('base')",
   "language": "python",
   "name": "python3"
  },
  "language_info": {
   "codemirror_mode": {
    "name": "ipython",
    "version": 3
   },
   "file_extension": ".py",
   "mimetype": "text/x-python",
   "name": "python",
   "nbconvert_exporter": "python",
   "pygments_lexer": "ipython3",
   "version": "3.9.12"
  },
  "vscode": {
   "interpreter": {
    "hash": "4da9767ede2aa5dda80421e17bc7538037e137690e850a94458f7447dae52089"
   }
  }
 },
 "nbformat": 4,
 "nbformat_minor": 2
}
