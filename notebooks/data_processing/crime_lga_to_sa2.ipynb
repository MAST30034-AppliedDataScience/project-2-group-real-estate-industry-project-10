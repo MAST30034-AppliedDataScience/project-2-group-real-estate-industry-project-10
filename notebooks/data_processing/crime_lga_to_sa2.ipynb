{
 "cells": [
  {
   "cell_type": "markdown",
   "metadata": {},
   "source": [
    "# This notebook aims to convert crime_rate external dataset's geospatial data to SA2_code"
   ]
  },
  {
   "cell_type": "code",
   "execution_count": 2,
   "metadata": {},
   "outputs": [
    {
     "name": "stdout",
     "output_type": "stream",
     "text": [
      "Downloading https://www.abs.gov.au/statistics/standards/australian-statistical-geography-standard-asgs-edition-3/jul2021-jun2026/access-and-downloads/digital-boundary-files/SA2_2021_AUST_SHP_GDA2020.zip ...\n",
      "Saved as: ../data/landing/External_data/lga_to_sa2/SA2_2021_AUST_SHP_GDA2020.zip\n",
      "Downloading https://www.abs.gov.au/statistics/standards/australian-statistical-geography-standard-asgs-edition-3/jul2021-jun2026/access-and-downloads/digital-boundary-files/LGA_2021_AUST_GDA2020_SHP.zip ...\n",
      "Saved as: ../data/landing/External_data/lga_to_sa2/LGA_2021_AUST_GDA2020_SHP.zip\n",
      "Uncompressing ../data/landing/External_data/lga_to_sa2/SA2_2021_AUST_SHP_GDA2020.zip ...\n",
      "Successfully decompressed: ../data/landing/External_data/lga_to_sa2/SA2_2021_AUST_SHP\n",
      "Uncompressing ../data/landing/External_data/lga_to_sa2/LGA_2021_AUST_GDA2020_SHP.zip ...\n",
      "Successfully decompressed: ../data/landing/External_data/lga_to_sa2/LGA_2021_AUST_SHP\n"
     ]
    }
   ],
   "source": [
    "import requests\n",
    "import zipfile\n",
    "import os\n",
    "import geopandas as gpd\n",
    "\n",
    "# Define download URLs\n",
    "sa2_url = \"https://www.abs.gov.au/statistics/standards/australian-statistical-geography-standard-asgs-edition-3/jul2021-jun2026/access-and-downloads/digital-boundary-files/SA2_2021_AUST_SHP_GDA2020.zip\"\n",
    "lga_url = \"https://www.abs.gov.au/statistics/standards/australian-statistical-geography-standard-asgs-edition-3/jul2021-jun2026/access-and-downloads/digital-boundary-files/LGA_2021_AUST_GDA2020_SHP.zip\"\n",
    "\n",
    "# Directory where the data will be saved\n",
    "output_dir = '../../data/landing/External_data/lga_to_sa2'\n",
    "\n",
    "# Create folder if it doesn't exist\n",
    "if not os.path.exists(output_dir):\n",
    "    os.makedirs(output_dir)\n",
    "\n",
    "# Define paths to save downloaded files\n",
    "sa2_zip_path = os.path.join(output_dir, \"SA2_2021_AUST_SHP_GDA2020.zip\")\n",
    "lga_zip_path = os.path.join(output_dir, \"LGA_2021_AUST_GDA2020_SHP.zip\")\n",
    "\n",
    "# Define paths to extract the zip files\n",
    "sa2_extract_path = os.path.join(output_dir, \"SA2_2021_AUST_SHP\")\n",
    "lga_extract_path = os.path.join(output_dir, \"LGA_2021_AUST_SHP\")\n",
    "\n",
    "# Function: download file\n",
    "def download_file(url, file_path):\n",
    "    print(f\"Downloading {url} ...\")\n",
    "    response = requests.get(url, stream=True)\n",
    "    if response.status_code == 200:\n",
    "        with open(file_path, 'wb') as file:\n",
    "            for chunk in response.iter_content(chunk_size=128):\n",
    "                file.write(chunk)\n",
    "        print(f\"Saved as: {file_path}\")\n",
    "    else:\n",
    "        print(f\"Failed: {response.status_code}\")\n",
    "\n",
    "# Function: unzip file\n",
    "def unzip_file(zip_file_path, extract_to_path):\n",
    "    print(f\"Uncompressing {zip_file_path} ...\")\n",
    "    with zipfile.ZipFile(zip_file_path, 'r') as zip_ref:\n",
    "        zip_ref.extractall(extract_to_path)\n",
    "    print(f\"Successfully decompressed: {extract_to_path}\")\n",
    "\n",
    "# Download SA2 Shapefile\n",
    "download_file(sa2_url, sa2_zip_path)\n",
    "\n",
    "# Download LGA Shapefile\n",
    "download_file(lga_url, lga_zip_path)\n",
    "\n",
    "# Unzip SA2 Shapefile\n",
    "unzip_file(sa2_zip_path, sa2_extract_path)\n",
    "\n",
    "# Unzip LGA Shapefile\n",
    "unzip_file(lga_zip_path, lga_extract_path)\n"
   ]
  },
  {
   "cell_type": "code",
   "execution_count": 1,
   "metadata": {},
   "outputs": [],
   "source": [
    "import geopandas as gpd\n",
    "\n",
    "\n",
    "lga_boundaries = gpd.read_file(\"../data/landing/External_data/lga_to_sa2/LGA_2021_AUST_SHP/LGA_2021_AUST_GDA2020.shp\")\n",
    "sa2_boundaries = gpd.read_file(\"../data/landing/External_data/lga_to_sa2/SA2_2021_AUST_SHP/SA2_2021_AUST_GDA2020.shp\")\n",
    "\n",
    "\n",
    "lga_boundaries = lga_boundaries.to_crs(sa2_boundaries.crs)\n"
   ]
  },
  {
   "cell_type": "code",
   "execution_count": 6,
   "metadata": {},
   "outputs": [
    {
     "name": "stdout",
     "output_type": "stream",
     "text": [
      "  LGA_CODE21 LGA_NAME21 STE_CODE21_left  STE_NAME21_left AUS_CODE21_left  \\\n",
      "0      10050     Albury               1  New South Wales             AUS   \n",
      "0      10050     Albury               1  New South Wales             AUS   \n",
      "0      10050     Albury               1  New South Wales             AUS   \n",
      "0      10050     Albury               1  New South Wales             AUS   \n",
      "0      10050     Albury               1  New South Wales             AUS   \n",
      "\n",
      "  AUS_NAME21_left  AREASQKM21_left  \\\n",
      "0       Australia         305.6386   \n",
      "0       Australia         305.6386   \n",
      "0       Australia         305.6386   \n",
      "0       Australia         305.6386   \n",
      "0       Australia         305.6386   \n",
      "\n",
      "                                     LOCI_URI21_left  SHAPE_Leng  SHAPE_Area  \\\n",
      "0  http://linked.data.gov.au/dataset/asgsed3/LGA2...    1.321768     0.03056   \n",
      "0  http://linked.data.gov.au/dataset/asgsed3/LGA2...    1.321768     0.03056   \n",
      "0  http://linked.data.gov.au/dataset/asgsed3/LGA2...    1.321768     0.03056   \n",
      "0  http://linked.data.gov.au/dataset/asgsed3/LGA2...    1.321768     0.03056   \n",
      "0  http://linked.data.gov.au/dataset/asgsed3/LGA2...    1.321768     0.03056   \n",
      "\n",
      "   ... SA4_CODE21  SA4_NAME21 GCC_CODE21    GCC_NAME21 STE_CODE21_right  \\\n",
      "0  ...        204        Hume      2RVIC  Rest of Vic.                2   \n",
      "0  ...        204        Hume      2RVIC  Rest of Vic.                2   \n",
      "0  ...        204        Hume      2RVIC  Rest of Vic.                2   \n",
      "0  ...        204        Hume      2RVIC  Rest of Vic.                2   \n",
      "0  ...        109      Murray      1RNSW   Rest of NSW                1   \n",
      "\n",
      "  STE_NAME21_right AUS_CODE21_right AUS_NAME21_right AREASQKM21_right  \\\n",
      "0         Victoria              AUS        Australia         248.8090   \n",
      "0         Victoria              AUS        Australia        6668.9470   \n",
      "0         Victoria              AUS        Australia         153.8800   \n",
      "0         Victoria              AUS        Australia          30.3131   \n",
      "0  New South Wales              AUS        Australia          48.1442   \n",
      "\n",
      "                                    LOCI_URI21_right  \n",
      "0  http://linked.data.gov.au/dataset/asgsed3/SA2/...  \n",
      "0  http://linked.data.gov.au/dataset/asgsed3/SA2/...  \n",
      "0  http://linked.data.gov.au/dataset/asgsed3/SA2/...  \n",
      "0  http://linked.data.gov.au/dataset/asgsed3/SA2/...  \n",
      "0  http://linked.data.gov.au/dataset/asgsed3/SA2/...  \n",
      "\n",
      "[5 rows x 28 columns]\n"
     ]
    }
   ],
   "source": [
    "import geopandas as gpd\n",
    "\n",
    "# Perform spatial join using the 'intersects' predicate to find overlapping areas between LGA and SA2\n",
    "lga_to_sa2 = gpd.sjoin(lga_boundaries, sa2_boundaries, how=\"inner\", predicate=\"intersects\")\n",
    "\n",
    "# Check the result\n",
    "print(lga_to_sa2.head())\n"
   ]
  },
  {
   "cell_type": "code",
   "execution_count": 7,
   "metadata": {},
   "outputs": [],
   "source": [
    "# Drop the 'geometry' column before saving as CSV since CSV doesn't support geometry data\n",
    "lga_to_sa2 = lga_to_sa2.drop(columns=\"geometry\")\n",
    "\n",
    "# Save the result to a CSV file\n",
    "lga_to_sa2.to_csv(\"../data/landing/External_data/LGA_to_SA2_mapped.csv\", index=False)\n"
   ]
  },
  {
   "cell_type": "code",
   "execution_count": 16,
   "metadata": {},
   "outputs": [
    {
     "name": "stdout",
     "output_type": "stream",
     "text": [
      "  Local Government Area  Incidents Recorded  Rate per 100,000 population  \\\n",
      "0               banyule                6168                  4633.858403   \n",
      "1               banyule                6168                  4633.858403   \n",
      "2               banyule                6168                  4633.858403   \n",
      "3               banyule                6168                  4633.858403   \n",
      "4               banyule                6168                  4633.858403   \n",
      "\n",
      "    SA2_CODE21                 SA2_NAME21  \n",
      "0  206071145.0  Clifton Hill - Alphington  \n",
      "1  207011148.0               Balwyn North  \n",
      "2  207011154.0                   Kew East  \n",
      "3  206021110.0     Alphington - Fairfield  \n",
      "4  209011201.0   Ivanhoe East - Eaglemont  \n",
      "The merged Victoria data has been saved to 'victoria_crime_data_with_sa2_and_rates.csv'.\n"
     ]
    }
   ],
   "source": [
    "import pandas as pd\n",
    "\n",
    "# Load crime data\n",
    "crime_data = pd.read_csv(\"../data/landing/External_data/LGA_criminal_incidents/LGA_criminal_incidents_table_1.csv\")\n",
    "\n",
    "# Load LGA to SA2 mapping data\n",
    "lga_to_sa2 = pd.read_csv(\"../data/landing/External_data/LGA_to_SA2_mapped.csv\")\n",
    "\n",
    "# Standardize LGA names in crime data\n",
    "crime_data['Local Government Area'] = crime_data['Local Government Area'].str.strip().str.lower()\n",
    "\n",
    "# Standardize LGA names in LGA to SA2 mapping data\n",
    "lga_to_sa2['LGA_NAME21'] = lga_to_sa2['LGA_NAME21'].str.strip().str.lower()\n",
    "\n",
    "# Filter the LGA to SA2 mapping data for Victoria (assuming the column 'STE_NAME21' represents the state name)\n",
    "lga_to_sa2_victoria = lga_to_sa2[lga_to_sa2['STE_NAME21_left'] == 'Victoria']\n",
    "\n",
    "# Merge the crime data with Victoria's LGA to SA2 mapping table\n",
    "merged_data = pd.merge(crime_data, lga_to_sa2_victoria, how=\"left\", left_on=\"Local Government Area\", right_on=\"LGA_NAME21\")\n",
    "\n",
    "# Select the columns to keep: SA2-related columns and crime data columns such as 'Rate per 100,000 population'\n",
    "selected_columns = ['Local Government Area', 'Incidents Recorded', 'Rate per 100,000 population', \n",
    "                    'SA2_CODE21', 'SA2_NAME21']\n",
    "\n",
    "# Create a new dataframe containing the selected key columns\n",
    "final_data = merged_data[selected_columns]\n",
    "\n",
    "# Check the result\n",
    "print(final_data.head())\n",
    "\n",
    "# Save the merged data to a CSV file\n",
    "final_data.to_csv(\"../data/landing/External_data/victoria_crime_data_with_sa2_and_rates.csv\", index=False)\n",
    "print(\"The merged Victoria data has been saved to 'victoria_crime_data_with_sa2_and_rates.csv'.\")\n"
   ]
  }
 ],
 "metadata": {
  "kernelspec": {
   "display_name": "Python 3",
   "language": "python",
   "name": "python3"
  },
  "language_info": {
   "codemirror_mode": {
    "name": "ipython",
    "version": 3
   },
   "file_extension": ".py",
   "mimetype": "text/x-python",
   "name": "python",
   "nbconvert_exporter": "python",
   "pygments_lexer": "ipython3",
   "version": "3.10.12"
  }
 },
 "nbformat": 4,
 "nbformat_minor": 2
}
