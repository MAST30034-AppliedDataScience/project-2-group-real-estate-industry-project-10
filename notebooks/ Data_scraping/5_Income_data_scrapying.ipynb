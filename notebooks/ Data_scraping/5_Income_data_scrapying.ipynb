{
 "cells": [
  {
   "cell_type": "markdown",
   "metadata": {},
   "source": [
    "# This notebook aims to webscrapy the imcome data based on SA2_code district"
   ]
  },
  {
   "cell_type": "code",
   "execution_count": 2,
   "metadata": {},
   "outputs": [
    {
     "name": "stdout",
     "output_type": "stream",
     "text": [
      "Table 1 data has been successfully saved to ../data/landing/External_data/SA2_income/SA2_income_data_table_1.csv\n"
     ]
    }
   ],
   "source": [
    "import requests\n",
    "import pandas as pd\n",
    "import os\n",
    "\n",
    "# URL of the Excel file\n",
    "url = 'https://www.abs.gov.au/methodologies/data-region-methodology/2011-23/14100DO0004_2011-23.xlsx'\n",
    "\n",
    "# Directory where the data will be saved\n",
    "output_dir = '../data/landing/External_data/SA2_income'\n",
    "\n",
    "# Ensure the directory exists\n",
    "os.makedirs(output_dir, exist_ok=True)\n",
    "\n",
    "# File path where the Excel file will be saved\n",
    "excel_file_path = os.path.join(output_dir, 'income_data.xlsx')\n",
    "\n",
    "# Download the Excel file\n",
    "response = requests.get(url)\n",
    "\n",
    "# Save the content to an Excel file\n",
    "with open(excel_file_path, 'wb') as file:\n",
    "    file.write(response.content)\n",
    "\n",
    "# Read the first sheet ('Table 1') from the Excel file\n",
    "table_1 = pd.read_excel(excel_file_path, sheet_name='Table 1')\n",
    "\n",
    "# Save the Table 1 data as a CSV file in the specified directory\n",
    "csv_file_path = os.path.join(output_dir, 'SA2_income_data_table_1.csv')\n",
    "table_1.to_csv(csv_file_path, index=False)\n",
    "\n",
    "# Print a confirmation message\n",
    "print(f\"Table 1 data has been successfully saved to {csv_file_path}\")\n",
    "\n"
   ]
  }
 ],
 "metadata": {
  "kernelspec": {
   "display_name": "Python 3",
   "language": "python",
   "name": "python3"
  },
  "language_info": {
   "codemirror_mode": {
    "name": "ipython",
    "version": 3
   },
   "file_extension": ".py",
   "mimetype": "text/x-python",
   "name": "python",
   "nbconvert_exporter": "python",
   "pygments_lexer": "ipython3",
   "version": "3.10.12"
  }
 },
 "nbformat": 4,
 "nbformat_minor": 2
}
