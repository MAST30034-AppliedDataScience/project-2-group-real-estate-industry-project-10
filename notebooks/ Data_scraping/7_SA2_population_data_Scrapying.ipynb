{
 "cells": [
  {
   "cell_type": "code",
   "execution_count": 2,
   "metadata": {},
   "outputs": [
    {
     "name": "stdout",
     "output_type": "stream",
     "text": [
      "Table 3 data has been successfully saved to ../data/landing/External_data/SA2_population/SA2_population_data_table_3.csv\n"
     ]
    }
   ],
   "source": [
    "import requests\n",
    "import pandas as pd\n",
    "import os\n",
    "\n",
    "# URL of the Excel file\n",
    "url = 'https://www.abs.gov.au/statistics/people/population/regional-population-age-and-sex/2023/32350DS0005_2001-23.xlsx'\n",
    "\n",
    "# Directory where the data will be saved\n",
    "output_dir = '../data/landing/External_data/SA2_population'\n",
    "\n",
    "# Ensure the directory exists\n",
    "os.makedirs(output_dir, exist_ok=True)\n",
    "\n",
    "# File path where the Excel file will be saved\n",
    "excel_file_path = os.path.join(output_dir, 'SA2_population_data.xlsx')\n",
    "\n",
    "# Download the Excel file\n",
    "response = requests.get(url)\n",
    "\n",
    "# Save the content to an Excel file\n",
    "with open(excel_file_path, 'wb') as file:\n",
    "    file.write(response.content)\n",
    "\n",
    "# Read the third sheet ('Table 3') from the Excel file\n",
    "table_3 = pd.read_excel(excel_file_path, sheet_name='Table 3')\n",
    "\n",
    "# Save the Table 3 data as a CSV file in the specified directory\n",
    "csv_file_path = os.path.join(output_dir, 'SA2_population_data_table_3.csv')\n",
    "table_3.to_csv(csv_file_path, index=False)\n",
    "\n",
    "# Print a confirmation message\n",
    "print(f\"Table 3 data has been successfully saved to {csv_file_path}\")"
   ]
  }
 ],
 "metadata": {
  "kernelspec": {
   "display_name": "Python 3.9.12 ('base')",
   "language": "python",
   "name": "python3"
  },
  "language_info": {
   "codemirror_mode": {
    "name": "ipython",
    "version": 3
   },
   "file_extension": ".py",
   "mimetype": "text/x-python",
   "name": "python",
   "nbconvert_exporter": "python",
   "pygments_lexer": "ipython3",
   "version": "3.9.12"
  },
  "vscode": {
   "interpreter": {
    "hash": "4da9767ede2aa5dda80421e17bc7538037e137690e850a94458f7447dae52089"
   }
  }
 },
 "nbformat": 4,
 "nbformat_minor": 2
}
