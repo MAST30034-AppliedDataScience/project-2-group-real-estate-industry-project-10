{
 "cells": [
  {
   "cell_type": "markdown",
   "metadata": {},
   "source": [
    "# Calculate the distance from driving to cbd\n",
    "### The main function of the code is to calculate the driving distance and time to Melbourne CBD for each property in the rental dataset by calling the OpenRoute Service API and storing the results in the dataset, which is then saved as a CSV file. This process has a flow-limiting mechanism added to the code in order to comply with the API's request restrictions."
   ]
  },
  {
   "cell_type": "code",
   "execution_count": null,
   "metadata": {},
   "outputs": [],
   "source": [
    "import requests\n",
    "import pandas as pd\n",
    "import time\n",
    "import os\n",
    "\n",
    "# Load rental data\n",
    "rent_df = pd.read_csv(\"../../data/landing/cleaned_rent_data.csv\")\n",
    "\n",
    "# Add new columns for storing results\n",
    "rent_df['CBD_distance'] = None\n",
    "rent_df['CBD_duration_time'] = None\n",
    "\n",
    "# Coordinates of Melbourne CBD\n",
    "CBD_longti = 144.9627651963711\n",
    "CBD_latiti = -37.810045355688764\n",
    "\n",
    "# API request limitations\n",
    "max_per_Min = 40\n",
    "time_sleep = 60 / max_per_Min\n",
    "\n",
    "# User input API key and batch range\n",
    "your_api_key = os.getenv('ORS_API_KEY')  # Use an environment variable to store the API key\n",
    "start = 1\n",
    "end = 2000\n",
    "\n",
    "# Ensure the save file path exists\n",
    "output_dir = '../../data/External_data/'\n",
    "if not os.path.exists(output_dir):\n",
    "    os.makedirs(output_dir)\n",
    "\n",
    "# Iterate over the specified index range of the rental dataset\n",
    "for index, row in rent_df.iloc[start-1:end].iterrows():  # Note iloc starts at 0, so start-1\n",
    "    if pd.isna(row['CBD_distance']):  # Only process records where CBD_distance is empty\n",
    "        longi = row['longitude']\n",
    "        latit = row['latitude']\n",
    "\n",
    "        # Construct API request URL\n",
    "        api_url = f'https://api.openrouteservice.org/v2/directions/driving-car?api_key={your_api_key}&start={longi},{latit}&end={CBD_longti},{CBD_latiti}'\n",
    "        response = requests.get(api_url)\n",
    "\n",
    "        # Check request status\n",
    "        if response.status_code == 200:\n",
    "            info = response.json()\n",
    "            features = info.get('features')\n",
    "            summary = features[0]['properties']['summary']  # Get driving route information\n",
    "            distance = summary['distance']  # Distance, in meters\n",
    "            duration_time = summary['duration']  # Driving time, in seconds\n",
    "\n",
    "            # Update rent_df with CBD_distance and CBD_duration_time\n",
    "            rent_df.at[index, 'CBD_distance'] = distance\n",
    "            rent_df.at[index, 'CBD_duration_time'] = duration_time\n",
    "        else:\n",
    "            print(f\"Request failed with status code: {response.status_code}\")\n",
    "\n",
    "        # Limit the API request rate\n",
    "        time.sleep(time_sleep)\n",
    "\n",
    "# Save the batch of data processed by the current member\n",
    "output_file = f'{output_dir}rent_data_CBD_{start}_to_{end}.csv'\n",
    "rent_df.iloc[start-1:end].to_csv(output_file, index=False)\n",
    "\n",
    "print(f'Data from row {start} to {end} saved to {output_file}')"
   ]
  }
 ],
 "metadata": {
  "kernelspec": {
   "display_name": "Python 3.9.12 ('base')",
   "language": "python",
   "name": "python3"
  },
  "language_info": {
   "codemirror_mode": {
    "name": "ipython",
    "version": 3
   },
   "file_extension": ".py",
   "mimetype": "text/x-python",
   "name": "python",
   "nbconvert_exporter": "python",
   "pygments_lexer": "ipython3",
   "version": "3.9.12"
  },
  "orig_nbformat": 4,
  "vscode": {
   "interpreter": {
    "hash": "4da9767ede2aa5dda80421e17bc7538037e137690e850a94458f7447dae52089"
   }
  }
 },
 "nbformat": 4,
 "nbformat_minor": 2
}
